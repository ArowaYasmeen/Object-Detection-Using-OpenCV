{
  "nbformat": 4,
  "nbformat_minor": 0,
  "metadata": {
    "kernelspec": {
      "display_name": "Python 3",
      "language": "python",
      "name": "python3"
    },
    "language_info": {
      "codemirror_mode": {
        "name": "ipython",
        "version": 3
      },
      "file_extension": ".py",
      "mimetype": "text/x-python",
      "name": "python",
      "nbconvert_exporter": "python",
      "pygments_lexer": "ipython3",
      "version": "3.7.4"
    },
    "colab": {
      "name": "04_Pedestrians_Detection.ipynb",
      "provenance": [],
      "toc_visible": true,
      "include_colab_link": true
    }
  },
  "cells": [
    {
      "cell_type": "markdown",
      "metadata": {
        "id": "view-in-github",
        "colab_type": "text"
      },
      "source": [
        "<a href=\"https://colab.research.google.com/github/Arowa/Object-Detection-Using-OpenCV/blob/main/04_Pedestrians_Detection.ipynb\" target=\"_parent\"><img src=\"https://colab.research.google.com/assets/colab-badge.svg\" alt=\"Open In Colab\"/></a>"
      ]
    },
    {
      "cell_type": "markdown",
      "metadata": {
        "id": "mbQmDjum5uOC"
      },
      "source": [
        "### Import Libraries"
      ]
    },
    {
      "cell_type": "code",
      "metadata": {
        "id": "gfvNeRBy5uOD"
      },
      "source": [
        "import cv2\n",
        "import numpy as np"
      ],
      "execution_count": null,
      "outputs": []
    },
    {
      "cell_type": "markdown",
      "metadata": {
        "id": "4QFoO5xZ5uOH"
      },
      "source": [
        "### Create Classifier"
      ]
    },
    {
      "cell_type": "code",
      "metadata": {
        "id": "Fu-FenNc5uOI"
      },
      "source": [
        "body_classifier = cv2.CascadeClassifier('Haarcascades/haarcascade_fullbody.xml')"
      ],
      "execution_count": null,
      "outputs": []
    },
    {
      "cell_type": "markdown",
      "metadata": {
        "id": "PWq3IXj55uOK"
      },
      "source": [
        "### Capture Video"
      ]
    },
    {
      "cell_type": "code",
      "metadata": {
        "id": "hFik3fd35uOL"
      },
      "source": [
        "cap = cv2.VideoCapture('Video/People_Walking.mp4')"
      ],
      "execution_count": null,
      "outputs": []
    },
    {
      "cell_type": "markdown",
      "metadata": {
        "id": "ltOh9GZY5uON"
      },
      "source": [
        "### The Function"
      ]
    },
    {
      "cell_type": "code",
      "metadata": {
        "id": "2ME1-0Wi5uOO"
      },
      "source": [
        "# While Loop\n",
        "while cap.isOpened():\n",
        "\n",
        "\n",
        "    # Read the capture\n",
        "    ret, frame = cap.read()\n",
        "    \n",
        "    # Pass the Frame to the Classifier\n",
        "    bodies = body_classifier.detectMultiScale(frame, 1.2, 3)\n",
        "    \n",
        "    # if Statement\n",
        "    if ret == True:\n",
        "    \n",
        "        # Bound Boxes to Identified Bodies\n",
        "        for (x,y,w,h) in bodies:\n",
        "            cv2.rectangle(frame,\n",
        "                         (x,y),\n",
        "                         (x+w, y+h),\n",
        "                         (25,125,225),\n",
        "                         5)\n",
        "            cv2.imshow('Pedestrians',frame)\n",
        "        \n",
        "        # Exit with Esc button\n",
        "        if cv2.waitKey(1) == 27:\n",
        "            break\n",
        "        \n",
        "    # else Statement\n",
        "    else:\n",
        "        break\n",
        "    \n",
        "# Release the Capture & Destroy All Windows\n",
        "cap.release()\n",
        "cv2.destroyAllWindows()\n",
        "\n",
        "\n"
      ],
      "execution_count": null,
      "outputs": []
    },
    {
      "cell_type": "code",
      "metadata": {
        "id": "UT8GDdpf5uOQ"
      },
      "source": [
        ""
      ],
      "execution_count": null,
      "outputs": []
    }
  ]
}