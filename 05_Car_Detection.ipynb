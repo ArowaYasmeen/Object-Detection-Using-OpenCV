{
  "nbformat": 4,
  "nbformat_minor": 0,
  "metadata": {
    "kernelspec": {
      "display_name": "Python 3",
      "language": "python",
      "name": "python3"
    },
    "language_info": {
      "codemirror_mode": {
        "name": "ipython",
        "version": 3
      },
      "file_extension": ".py",
      "mimetype": "text/x-python",
      "name": "python",
      "nbconvert_exporter": "python",
      "pygments_lexer": "ipython3",
      "version": "3.7.4"
    },
    "colab": {
      "name": "05_Car_Detection.ipynb",
      "provenance": [],
      "include_colab_link": true
    }
  },
  "cells": [
    {
      "cell_type": "markdown",
      "metadata": {
        "id": "view-in-github",
        "colab_type": "text"
      },
      "source": [
        "<a href=\"https://colab.research.google.com/github/Arowa/Object-Detection-Using-OpenCV/blob/main/05_Car_Detection.ipynb\" target=\"_parent\"><img src=\"https://colab.research.google.com/assets/colab-badge.svg\" alt=\"Open In Colab\"/></a>"
      ]
    },
    {
      "cell_type": "markdown",
      "metadata": {
        "id": "CKvKLucckbp9"
      },
      "source": [
        "### Import Libraries"
      ]
    },
    {
      "cell_type": "code",
      "metadata": {
        "id": "NTwVSlz3kbqC"
      },
      "source": [
        "import cv2\n",
        "import numpy as np"
      ],
      "execution_count": null,
      "outputs": []
    },
    {
      "cell_type": "markdown",
      "metadata": {
        "id": "CPYbn5jdkbqD"
      },
      "source": [
        "### Create Classifier"
      ]
    },
    {
      "cell_type": "code",
      "metadata": {
        "id": "QeI34anPkbqD"
      },
      "source": [
        "car_classifier = cv2.CascadeClassifier('Haarcascades/haarcascade_car.xml')"
      ],
      "execution_count": null,
      "outputs": []
    },
    {
      "cell_type": "markdown",
      "metadata": {
        "id": "d5CA8GAkkbqD"
      },
      "source": [
        "### Capture Video"
      ]
    },
    {
      "cell_type": "code",
      "metadata": {
        "id": "ERA8hZrtkbqE"
      },
      "source": [
        "cap = cv2.VideoCapture('Video/Vehicles.mp4')"
      ],
      "execution_count": null,
      "outputs": []
    },
    {
      "cell_type": "markdown",
      "metadata": {
        "id": "lqbKC6dEkbqE"
      },
      "source": [
        "### The Main"
      ]
    },
    {
      "cell_type": "code",
      "metadata": {
        "id": "pfUNohaykbqE"
      },
      "source": [
        "# while Loop\n",
        "while cap.isOpened():\n",
        "\n",
        "\n",
        "    # Read the capture\n",
        "    ret, frame = cap.read()\n",
        "    \n",
        "    # Pass the Frame to the Classifier\n",
        "    cars = car_classifier.detectMultiScale(frame, 1.4, 2)\n",
        "    \n",
        "    # for Loop\n",
        "    for (x,y,w,h) in cars:\n",
        "    \n",
        "        # Bound Boxes to Identified Bodies\n",
        "        cv2.rectangle(frame,\n",
        "                     (x,y),\n",
        "                     (x+w, y+h),\n",
        "                     (0,255,255),\n",
        "                     2)\n",
        "        cv2.imshow('Cars',frame)\n",
        "        \n",
        "    # Exit with Esc button\n",
        "    if cv2.waitKey(1) & 0xFF == 27:\n",
        "            break\n",
        "    \n",
        "    \n",
        "# Release the Capture & Destroy All Windows\n",
        "cap.release()\n",
        "cv2.destroyAllWindows()\n",
        "\n",
        "\n"
      ],
      "execution_count": null,
      "outputs": []
    },
    {
      "cell_type": "code",
      "metadata": {
        "id": "OuitGj0IkbqE"
      },
      "source": [
        ""
      ],
      "execution_count": null,
      "outputs": []
    }
  ]
}